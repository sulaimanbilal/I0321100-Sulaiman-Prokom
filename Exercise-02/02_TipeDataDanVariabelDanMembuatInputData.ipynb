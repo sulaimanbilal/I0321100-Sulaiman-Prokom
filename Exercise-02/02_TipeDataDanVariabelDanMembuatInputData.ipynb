{
 "cells": [
  {
   "cell_type": "markdown",
   "metadata": {},
   "source": [
    "# Exercise 2\n",
    "\n",
    "1. Salinlah kode di bawah ini dan isilah titik-titik sesuai dengan perintah yang ada\n",
    "![](./images/02_TipeDataDanVariabel.png)"
   ]
  },
  {
   "cell_type": "code",
   "execution_count": 11,
   "metadata": {},
   "outputs": [
    {
     "name": "stdout",
     "output_type": "stream",
     "text": [
      "Nama lengkap saya adalah Sulaiman Bilal Muzakhar\n",
      "Nama panggilan saya adalah Bilal\n",
      "Umur saya saat ini adalah 18\n",
      "Tipe data variabel umur adalah <class 'int'>\n",
      "Umur saya saat ini adalah Delapan belas tahun\n",
      "Tipe data variabel umur adalah <class 'str'>\n",
      "Tinggi badan saya adalah 163.5\n",
      "Tipe data variabel tinggi badan adalah <class 'float'>\n",
      "Saya merupakan mahasiswa angkatan 2021 adalah True\n",
      "Tipe data variabel mahasiswaangkatan2021 adalah <class 'bool'>\n"
     ]
    }
   ],
   "source": [
    "Nama = 'Sulaiman Bilal Muzakhar'\n",
    "nama = 'Bilal' \n",
    "print(\"Nama lengkap saya adalah\", Nama) \n",
    "print(\"Nama panggilan saya adalah\", nama)\n",
    "\n",
    "\n",
    "umur = 18 \n",
    "print(\"Umur saya saat ini adalah\", umur) \n",
    "print(\"Tipe data variabel umur adalah\", type( umur))\n",
    "umur = 'Delapan belas tahun'\n",
    "print(\"Umur saya saat ini adalah\", umur) \n",
    "print(\"Tipe data variabel umur adalah\", type( umur))\n",
    "tinggi_badan = 163.5\n",
    "print(\"Tinggi badan saya adalah\", tinggi_badan)\n",
    "print(\"Tipe data variabel tinggi badan adalah\", type(tinggi_badan))\n",
    "mahasiswaangkatan2621 = True\n",
    "print(\"Saya merupakan mahasiswa angkatan 2021 adalah\", mahasiswaangkatan2621)\n",
    "print(\"Tipe data variabel mahasiswaangkatan2021 adalah\", type(mahasiswaangkatan2621))"
   ]
  },
  {
   "cell_type": "markdown",
   "metadata": {},
   "source": [
    "2. Salinlah kode di bawah ini dan isilah titik-titik sesuai dengan perintah yang ada\n",
    "![](./images/02_MembuatInputData.png)"
   ]
  },
  {
   "cell_type": "code",
   "execution_count": 15,
   "metadata": {},
   "outputs": [
    {
     "name": "stdout",
     "output_type": "stream",
     "text": [
      "Progam Konversi Panjang dalam Meter ke Berbagai Satuan\n",
      "\n",
      "\n",
      "69000 m= 69.0 km\n",
      "69000 m= 6900000 cm\n",
      "69000 m= 69000000 mm\n",
      "69000 m= 69000000000 μm\n",
      "69000 m= 6900000000000 nm\n",
      "69000 m= 2716535.4331 in\n",
      "69000 m= 226377.9528 ft\n",
      "69000 m= 75459.3176 yard\n",
      "69000 m= 42.8746 mi\n",
      "69000 m= 37.257 nmi\n"
     ]
    }
   ],
   "source": [
    "print(\"Progam Konversi Panjang dalam Meter ke Berbagai Satuan\")\n",
    "print(\"\")\n",
    "length = int(input(\"Masukkan nilai panjang dalam meter: \"))\n",
    "feet = length / 0.3048\n",
    "print(\"\")\n",
    "print(length, \"m=\", length / 1000, \"km\")\n",
    "print(length, \"m=\", length * 100, \"cm\") \n",
    "print(length, \"m=\", length * 1000, \"mm\")\n",
    "print(length, \"m=\", length * 1000000, \"μm\") \n",
    "print(length, \"m=\", length * 100000000, \"nm\") \n",
    "\n",
    "print(length, \"m=\", round(feet * 12, 4), \"in\") \n",
    "print(length, \"m=\", round(feet, 4), \"ft\")\n",
    "print(length, \"m=\", round(feet / 3, 4), \"yard\")\n",
    "print(length, \"m=\", round(feet / 5280, 4), \"mi\")\n",
    "print(length, \"m=\", round(length / 1852, 4), \"nmi\")"
   ]
  },
  {
   "cell_type": "markdown",
   "metadata": {},
   "source": [
    "### Cara Pengumpulan\n",
    "\n",
    "1. Buka *New Terminal*\n",
    "2. Pastikan *path* Terminal adalah folder repositori kalian (NIM-Nama-Prokom).\n",
    "3. Tambahkan file yang akan ditrack dengan `git add <nama file>`. Nama file bisa diubah . (titik) yang artinya semua file dalam folder akan ditrack.\n",
    "4. Lakukan commit perubahan dengan `git commit -m <deskripsi>`.\n",
    "5. Lakukan push dengan `git push -u origin <nama branch>`. Nama branch dapat diketahui dengan `git branch`.\n",
    "6. Pastikan Exercise-02 telah terupload dan dapat diakses di repositori dengan mengaksesnya di browser."
   ]
  }
 ],
 "metadata": {
  "interpreter": {
   "hash": "ac59ebe37160ed0dfa835113d9b8498d9f09ceb179beaac4002f036b9467c963"
  },
  "kernelspec": {
   "display_name": "Python 3.9.8 64-bit",
   "language": "python",
   "name": "python3"
  },
  "language_info": {
   "codemirror_mode": {
    "name": "ipython",
    "version": 3
   },
   "file_extension": ".py",
   "mimetype": "text/x-python",
   "name": "python",
   "nbconvert_exporter": "python",
   "pygments_lexer": "ipython3",
   "version": "3.9.7"
  },
  "orig_nbformat": 4
 },
 "nbformat": 4,
 "nbformat_minor": 2
}
