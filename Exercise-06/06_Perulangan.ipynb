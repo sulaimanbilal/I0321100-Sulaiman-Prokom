{
 "cells": [
  {
   "cell_type": "markdown",
   "metadata": {},
   "source": [
    "***\n",
    "<h1 align=\"center\">Exercise 06</h1>\n",
    " \n",
    "***\n",
    "## While Loop\n",
    "## Exercise 6.1\n",
    "isilah bagian rumpang berikut. xx diganti tanggal lahir dan yy diganti menjadi bulan lahir. tandanya menyesuaikan yang lebih besar."
   ]
  },
  {
   "cell_type": "code",
   "execution_count": 1,
   "metadata": {},
   "outputs": [
    {
     "name": "stdout",
     "output_type": "stream",
     "text": [
      "Let it be\n",
      "Let it be\n",
      "Let it be\n",
      "Let it be\n",
      "Let it be\n",
      "Let it be\n",
      "Let it be\n",
      "Let it be\n",
      "Let it be\n",
      "Let it be\n",
      "Let it be\n",
      "Let it be\n",
      "Let it be\n",
      "Let it be\n",
      "Let it be\n"
     ]
    }
   ],
   "source": [
    "#menentukan banyak pengulangan\n",
    "n = 18\n",
    "\n",
    "#melakukan pengulangan\n",
    "i = 4\n",
    "\n",
    "while i <= n :\n",
    "    print (\"Let it be\")\n",
    "    #diisi motto kalian\n",
    "    i = i + 1 # sesuaikan dengan atas agar fungsi perulangan dapat berhenti\n"
   ]
  },
  {
   "cell_type": "markdown",
   "metadata": {},
   "source": [
    "## Exercise 6.2\n",
    "\n",
    "Buatlah code seperti yang dicontohkan pada modul agar user dapat menginputkan sendiri jumlah n yang diinginkan"
   ]
  },
  {
   "cell_type": "code",
   "execution_count": 2,
   "metadata": {},
   "outputs": [
    {
     "name": "stdout",
     "output_type": "stream",
     "text": [
      "4\n",
      "5\n",
      "6\n",
      "7\n",
      "8\n",
      "9\n",
      "10\n",
      "11\n",
      "12\n"
     ]
    }
   ],
   "source": [
    "#Kerjakan disini\n",
    "#menentukan banyak pengulangan \n",
    "n = int(input(\"Input nilai n:  \"))\n",
    "\n",
    "#melakukan pengulangan \n",
    "i = 4\n",
    "\n",
    "while i <= n:\n",
    "    print(i)\n",
    "    i = i + 1\n"
   ]
  },
  {
   "cell_type": "markdown",
   "metadata": {},
   "source": [
    "## Excercise 6.3\n",
    "\n",
    "isilah xx, yy, dan tanda rumpang seperti pada exercise 6.1\n"
   ]
  },
  {
   "cell_type": "code",
   "execution_count": 5,
   "metadata": {},
   "outputs": [
    {
     "name": "stdout",
     "output_type": "stream",
     "text": [
      "Baris ke-18 : Peaky Blinders\n",
      "Baris ke-17 : Peaky Blinders\n",
      "Baris ke-16 : Peaky Blinders\n",
      "Baris ke-15 : Peaky Blinders\n",
      "Baris ke-14 : Peaky Blinders\n",
      "Baris ke-13 : Peaky Blinders\n",
      "Baris ke-12 : Peaky Blinders\n",
      "Baris ke-11 : Peaky Blinders\n",
      "Baris ke-10 : Peaky Blinders\n",
      "Baris ke-9 : Peaky Blinders\n",
      "Baris ke-8 : Peaky Blinders\n",
      "Baris ke-7 : Peaky Blinders\n",
      "Baris ke-6 : Peaky Blinders\n",
      "Baris ke-5 : Peaky Blinders\n",
      "Baris ke-4 : Peaky Blinders\n"
     ]
    }
   ],
   "source": [
    "#melakukan pengulangan\n",
    "i = 18\n",
    "\n",
    "while i >= 4 :\n",
    "    print (\"Baris ke-%d : Peaky Blinders\"%i)\n",
    "    #isi titik-titik dengan judul film favorit kalian\n",
    "    i = i - 1 "
   ]
  },
  {
   "cell_type": "markdown",
   "metadata": {},
   "source": [
    "## FOR LOOP\n",
    "\n",
    "## Exercise 6.4\n",
    "\n",
    "munculkan 3 dari 7 elemen yang berada di dalam list1 dan list2\n"
   ]
  },
  {
   "cell_type": "code",
   "execution_count": 9,
   "metadata": {},
   "outputs": [
    {
     "name": "stdout",
     "output_type": "stream",
     "text": [
      "3 Nasi briani , Surakarta\n",
      "4 Burger , Surabaya\n",
      "5 Pizza , Jakarta\n"
     ]
    }
   ],
   "source": [
    "list1 = [\"Sapi lada hitam\",\"Sate\",\"Nasi briani\",\"Burger\",\"Pizza\",\"Magelangan\",\"Mie dok dok\"] #masukkan 7 list makanan favorit kalian\n",
    "list2 = [\"Jember\",\"Malang\",\"Surakarta\",\"Surabaya\",\"Jakarta\",\"Bandung\",\"Yogyakarta\"] #masukkan 7 list kota favorit kalian\n",
    "\n",
    "for i in range(2,5) :\n",
    "    print(i+1, list1[i], ',' , list2[i])"
   ]
  },
  {
   "cell_type": "markdown",
   "metadata": {},
   "source": [
    "## Perulangan Bersarang\n",
    "\n",
    "## Exercise 6.5"
   ]
  },
  {
   "cell_type": "code",
   "execution_count": 15,
   "metadata": {},
   "outputs": [
    {
     "name": "stdout",
     "output_type": "stream",
     "text": [
      "324 \n",
      "306 289 \n",
      "288 272 256 \n",
      "270 255 240 225 \n",
      "252 238 224 210 196 \n",
      "234 221 208 195 182 169 \n",
      "216 204 192 180 168 156 144 \n",
      "198 187 176 165 154 143 132 121 \n",
      "180 170 160 150 140 130 120 110 100 \n",
      "162 153 144 135 126 117 108 99 90 81 \n",
      "144 136 128 120 112 104 96 88 80 72 64 \n",
      "126 119 112 105 98 91 84 77 70 63 56 49 \n",
      "108 102 96 90 84 78 72 66 60 54 48 42 36 \n",
      "90 85 80 75 70 65 60 55 50 45 40 35 30 25 \n",
      "72 68 64 60 56 52 48 44 40 36 32 28 24 20 16 \n"
     ]
    }
   ],
   "source": [
    "i = 18\n",
    "while i >= 4:\n",
    "    j = 18\n",
    "    while j>=i:\n",
    "        print(\"%d \" % (i*j), end = '')\n",
    "        j = j - 1\n",
    "    print()\n",
    "    i-=1"
   ]
  },
  {
   "cell_type": "markdown",
   "metadata": {},
   "source": [
    "## Pernyataan Loncat\n",
    "\n",
    "## Exercise 6.\n",
    "\n",
    "Buatlah fungsi berikut agar muncul angka hingga berhenti sesuai dengan nilai qq\n",
    "qq = angka favorit kalian\n",
    "pp>qq"
   ]
  },
  {
   "cell_type": "code",
   "execution_count": 16,
   "metadata": {},
   "outputs": [
    {
     "name": "stdout",
     "output_type": "stream",
     "text": [
      "01234567"
     ]
    }
   ],
   "source": [
    "for i in range(18):\n",
    "    print(i,end='')\n",
    "    if i == 7:\n",
    "        break"
   ]
  },
  {
   "cell_type": "markdown",
   "metadata": {},
   "source": [
    "***\n",
    "<h1 align=\"center\">WELL DONE</h1>\n",
    " \n",
    "***"
   ]
  }
 ],
 "metadata": {
  "interpreter": {
   "hash": "cd08f94adcf3cbae37fe85286256f4c2a10455ca9094fd053e9f3d3f09647223"
  },
  "kernelspec": {
   "display_name": "Python 3.9.7 64-bit",
   "language": "python",
   "name": "python3"
  },
  "language_info": {
   "codemirror_mode": {
    "name": "ipython",
    "version": 3
   },
   "file_extension": ".py",
   "mimetype": "text/x-python",
   "name": "python",
   "nbconvert_exporter": "python",
   "pygments_lexer": "ipython3",
   "version": "3.9.7"
  },
  "orig_nbformat": 4
 },
 "nbformat": 4,
 "nbformat_minor": 2
}
