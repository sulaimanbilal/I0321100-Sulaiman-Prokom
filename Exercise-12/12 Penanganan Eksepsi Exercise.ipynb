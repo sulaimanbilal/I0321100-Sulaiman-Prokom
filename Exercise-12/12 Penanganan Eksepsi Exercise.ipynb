{
 "cells": [
  {
   "cell_type": "markdown",
   "metadata": {},
   "source": [
    "***\n",
    "<h1 align=\"center\">Exercise 12</h1>\n",
    " \n",
    "***\n",
    "## Exeption\n",
    "## Exercise 12.1\n",
    "\n",
    "Salinlah code yang ada pada contoh 12.1"
   ]
  },
  {
   "cell_type": "code",
   "execution_count": 1,
   "metadata": {},
   "outputs": [
    {
     "name": "stdout",
     "output_type": "stream",
     "text": [
      "An exception occured\n"
     ]
    }
   ],
   "source": [
    "#kerjakan disini\n",
    "try:\n",
    "    print(x)\n",
    "except:\n",
    "    print(\"An exception occured\")"
   ]
  },
  {
   "cell_type": "markdown",
   "metadata": {},
   "source": [
    "## Exercise 12.2\n",
    "\n",
    "Salinlah code yang ada pada contoh 12.2"
   ]
  },
  {
   "cell_type": "code",
   "execution_count": 2,
   "metadata": {},
   "outputs": [
    {
     "name": "stdout",
     "output_type": "stream",
     "text": [
      "teknik\n"
     ]
    }
   ],
   "source": [
    "#kerjakan disini\n",
    "try:\n",
    "    x = \"teknik\"\n",
    "    print(x)\n",
    "except:\n",
    "    print(\"An exception occured\")"
   ]
  },
  {
   "cell_type": "markdown",
   "metadata": {},
   "source": [
    "## Exercise 12.3\n",
    "\n",
    "Salinlah code yang ada pada contoh 12.3"
   ]
  },
  {
   "cell_type": "code",
   "execution_count": 3,
   "metadata": {},
   "outputs": [
    {
     "name": "stdout",
     "output_type": "stream",
     "text": [
      "Anda mengetikkan \"selamat pagi cikgu\"\n"
     ]
    }
   ],
   "source": [
    "#kerjakan disini\n",
    "try:\n",
    "    teks = input('Ketikkan sesuatu: ')\n",
    "except EOFError:\n",
    "    print ('\\nKenapa sudah EOF?')\n",
    "except KeyboardInterrupt:\n",
    "    print ('\\nAnda membatalkan operasi')\n",
    "else:\n",
    "    print ('Anda mengetikkan \"%s\"' %teks)"
   ]
  },
  {
   "cell_type": "markdown",
   "metadata": {},
   "source": [
    "## Exercise 12.4\n",
    "\n",
    "Salinlah code yang ada pada contoh 12.4"
   ]
  },
  {
   "cell_type": "code",
   "execution_count": 4,
   "metadata": {},
   "outputs": [
    {
     "name": "stdout",
     "output_type": "stream",
     "text": [
      "Anda mengetikkan \"Mancing mania mantap!\"\n"
     ]
    }
   ],
   "source": [
    "#kerjakan disini\n",
    "try:\n",
    "    teks = input('Ketikkan sesuatu: ')\n",
    "except EOFError:\n",
    "    print ('\\nKenapa sudah EOF?')\n",
    "except KeyboardInterrupt:\n",
    "    print ('\\nAnda membatalkan operasi')\n",
    "else:\n",
    "    print ('Anda mengetikkan \"%s\"' %teks)"
   ]
  },
  {
   "cell_type": "markdown",
   "metadata": {},
   "source": [
    "## Exercise 12.5\n",
    "\n",
    "Salinlah code yang ada pada contoh 12.5"
   ]
  },
  {
   "cell_type": "code",
   "execution_count": 7,
   "metadata": {},
   "outputs": [
    {
     "name": "stdout",
     "output_type": "stream",
     "text": [
      "\n",
      "File tidak ditemukan.\n"
     ]
    },
    {
     "ename": "NameError",
     "evalue": "name 'f' is not defined",
     "output_type": "error",
     "traceback": [
      "\u001b[1;31m---------------------------------------------------------------------------\u001b[0m",
      "\u001b[1;31mNameError\u001b[0m                                 Traceback (most recent call last)",
      "\u001b[1;32md:\\School\\Kuliah\\SMT 2\\Praktikum Prokom\\I0321100-Sulaiman-Prokom\\Exercise-12\\12 Penanganan Eksepsi Exercise.ipynb Cell 10'\u001b[0m in \u001b[0;36m<cell line: 4>\u001b[1;34m()\u001b[0m\n\u001b[0;32m     <a href='vscode-notebook-cell:/d%3A/School/Kuliah/SMT%202/Praktikum%20Prokom/I0321100-Sulaiman-Prokom/Exercise-12/12%20Penanganan%20Eksepsi%20Exercise.ipynb#ch0000009?line=16'>17</a>\u001b[0m     \u001b[39mprint\u001b[39m(\u001b[39m'\u001b[39m\u001b[39m\"\u001b[39m\u001b[39mf\u001b[39m\u001b[39m\"\u001b[39m\u001b[39m tidak terdefinisi\u001b[39m\u001b[39m'\u001b[39m)\n\u001b[0;32m     <a href='vscode-notebook-cell:/d%3A/School/Kuliah/SMT%202/Praktikum%20Prokom/I0321100-Sulaiman-Prokom/Exercise-12/12%20Penanganan%20Eksepsi%20Exercise.ipynb#ch0000009?line=17'>18</a>\u001b[0m \u001b[39mfinally\u001b[39;00m:\n\u001b[1;32m---> <a href='vscode-notebook-cell:/d%3A/School/Kuliah/SMT%202/Praktikum%20Prokom/I0321100-Sulaiman-Prokom/Exercise-12/12%20Penanganan%20Eksepsi%20Exercise.ipynb#ch0000009?line=18'>19</a>\u001b[0m     f\u001b[39m.\u001b[39mclose()\n\u001b[0;32m     <a href='vscode-notebook-cell:/d%3A/School/Kuliah/SMT%202/Praktikum%20Prokom/I0321100-Sulaiman-Prokom/Exercise-12/12%20Penanganan%20Eksepsi%20Exercise.ipynb#ch0000009?line=19'>20</a>\u001b[0m     \u001b[39mprint\u001b[39m(\u001b[39m\"\u001b[39m\u001b[39m\\n\u001b[39;00m\u001b[39mFile ditutup.\u001b[39m\u001b[39m\"\u001b[39m)\n",
      "\u001b[1;31mNameError\u001b[0m: name 'f' is not defined"
     ]
    }
   ],
   "source": [
    "#kerjakan disini\n",
    "import time\n",
    "\n",
    "try:\n",
    "    f = open('coba.txt')\n",
    "    while True:\n",
    "        baris = f.readline()\n",
    "        if len(baris) == 0:\n",
    "            break\n",
    "        print(baris),\n",
    "        time.sleep(2)\n",
    "except KeyboardInterrupt:\n",
    "    print(\"\\nAnda membatalkan operasi\")\n",
    "except FileNotFoundError:\n",
    "    print(\"\\nFile tidak ditemukan.\")\n",
    "except NameError:\n",
    "    print('\"f\" tidak terdefinisi')\n",
    "finally:\n",
    "    f.close()\n",
    "    print(\"\\nFile ditutup.\")"
   ]
  },
  {
   "cell_type": "markdown",
   "metadata": {},
   "source": [
    "***\n",
    "<h1 align=\"center\">WELL DONE</h1>\n",
    " \n",
    "***"
   ]
  }
 ],
 "metadata": {
  "interpreter": {
   "hash": "d7f03f5416e9042ea6c32c78fb3535bbf29df5e69d5264ad835ba72f6b933de0"
  },
  "kernelspec": {
   "display_name": "Python 3.9.7 64-bit",
   "language": "python",
   "name": "python3"
  },
  "language_info": {
   "codemirror_mode": {
    "name": "ipython",
    "version": 3
   },
   "file_extension": ".py",
   "mimetype": "text/x-python",
   "name": "python",
   "nbconvert_exporter": "python",
   "pygments_lexer": "ipython3",
   "version": "3.9.7"
  },
  "orig_nbformat": 4
 },
 "nbformat": 4,
 "nbformat_minor": 2
}
